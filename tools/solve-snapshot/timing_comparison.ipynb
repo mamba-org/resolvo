{
 "cells": [
  {
   "cell_type": "code",
   "execution_count": null,
   "id": "e2ecd20f-bd4f-4a4a-82d0-28d2d9db18ac",
   "metadata": {},
   "outputs": [],
   "source": [
    "import polars as pl\n",
    "import matplotlib.pyplot as plt\n",
    "\n",
    "plt.rcParams['figure.dpi'] = 150\n",
    "plt.rcParams['savefig.dpi'] = 150\n",
    "\n",
    "base_path = \"base_timings.csv\"\n",
    "path = \"timings.csv\"\n",
    "\n",
    "# These are all the timings we want to see\n",
    "paths = [base_path, path]\n",
    "\n",
    "# Read the CSV\n",
    "dfs = [\n",
    "    pl.scan_csv(path).select(pl.col(\"package\"), pl.col(\"duration\")).collect()\n",
    "    for path in paths\n",
    "]\n",
    "\n",
    "for path, df in zip(paths,dfs):\n",
    "    count = df.select(pl.len()).item()\n",
    "    print(f\"{path}: {count} records\")\n",
    "\n",
    "# Define the histogram bins\n",
    "threshold = 50\n",
    "bins = [0, 1, 2, 3, 4, 5, 6, 7, 8, 9, 10, 12, 14, 16, 18, 20, 25, 30, 35, 40, threshold, threshold + 1]\n",
    "\n",
    "dfs_capped = [\n",
    "    df.select([\n",
    "        pl.col(\"duration\").map_elements(lambda x: min(x, threshold), return_dtype=pl.Float64)\n",
    "    ]) for df in dfs]\n",
    "\n",
    "# Create the histogram\n",
    "fig, axs = plt.subplots(2, sharex=True)\n",
    "\n",
    "for path, df_capped, axs in zip(paths, dfs_capped, axs):\n",
    "    values, bins, bars = axs.hist(df_capped[\"duration\"], bins=bins, density=True)\n",
    "    axs.set_title(path)\n",
    "    axs.bar_label(bars, fontsize=8, color='black', labels = [f'{x.get_height():.1%}' for x in bars])\n",
    "    axs.tick_params(axis='y', which='both', left=False, top=False, labelleft=False)\n",
    "\n",
    "# Add labels to the ticks\n",
    "fig.supxlabel(\"Solve duration in seconds\")\n",
    "fig.supylabel(\"Percentage of solves\")\n",
    "fig.suptitle(\"Histogram of solve durations\")\n",
    "\n",
    "\n",
    "plt.show()\n"
   ]
  },
  {
   "cell_type": "code",
   "execution_count": null,
   "id": "88f7081d-d2bf-4fb7-86ab-7fd22dce0202",
   "metadata": {},
   "outputs": [],
   "source": [
    "# Load the timings\n",
    "dfs = [\n",
    "    pl.scan_csv(path).select(pl.col(\"package\"), pl.col(\"duration\")) \n",
    "    for path in [base_path, path]\n",
    "]\n",
    "\n",
    "# Compute the solver diffs. Negative values means the second timings are faster\n",
    "df_diff = dfs[1].join(dfs[0], on=\"package\").select(pl.col(\"package\"), (pl.col(\"duration\")-pl.col(\"duration_right\"))).collect();\n",
    "\n",
    "# Create the histogram\n",
    "plt.hist(df_diff[\"duration\"], bins=40, density=True)\n",
    "plt.xlabel(\"Difference in solve duration in seconds\")\n",
    "plt.ylabel(\"Difference probability\")\n",
    "\n",
    "plt.show()"
   ]
  },
  {
   "cell_type": "code",
   "execution_count": null,
   "id": "b06fdad5-e960-4461-8166-e071eb75c1f2",
   "metadata": {},
   "outputs": [],
   "source": []
  }
 ],
 "metadata": {
  "kernelspec": {
   "display_name": "Python 3 (ipykernel)",
   "language": "python",
   "name": "python3"
  },
  "language_info": {
   "codemirror_mode": {
    "name": "ipython",
    "version": 3
   },
   "file_extension": ".py",
   "mimetype": "text/x-python",
   "name": "python",
   "nbconvert_exporter": "python",
   "pygments_lexer": "ipython3",
   "version": "3.12.5"
  }
 },
 "nbformat": 4,
 "nbformat_minor": 5
}
